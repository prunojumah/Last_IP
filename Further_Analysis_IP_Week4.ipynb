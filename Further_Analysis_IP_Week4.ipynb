{
  "nbformat": 4,
  "nbformat_minor": 0,
  "metadata": {
    "colab": {
      "name": "Further_Analysis_IP_Week4",
      "provenance": [],
      "collapsed_sections": [],
      "authorship_tag": "ABX9TyPdhHBZQivPBylP0Ij/H0ta",
      "include_colab_link": true
    },
    "kernelspec": {
      "name": "python3",
      "display_name": "Python 3"
    }
  },
  "cells": [
    {
      "cell_type": "markdown",
      "metadata": {
        "id": "view-in-github",
        "colab_type": "text"
      },
      "source": [
        "<a href=\"https://colab.research.google.com/github/prunojumah/Last_IP/blob/master/Further_Analysis_IP_Week4.ipynb\" target=\"_parent\"><img src=\"https://colab.research.google.com/assets/colab-badge.svg\" alt=\"Open In Colab\"/></a>"
      ]
    },
    {
      "cell_type": "code",
      "metadata": {
        "id": "sAuhHObNBVPO",
        "colab_type": "code",
        "colab": {
          "base_uri": "https://localhost:8080/",
          "height": 105
        },
        "outputId": "1f05b69a-11d4-4744-a3de-051176d355cd"
      },
      "source": [
        "#Importing panda and numpy libraries\n",
        "\n",
        "import pandas as pd\n",
        "import numpy as np\n",
        "\n",
        "#loading the csv file on python by first assigning it to a variable\n",
        "Autolib = '/content/Autolib_dataset (2).csv'\n",
        "\n",
        "df = pd.read_csv(Autolib)\n",
        "\n",
        "#Resizing and cleaning data to remain with what is relevant to our research\n",
        "df.drop(['Displayed comment','Scheduled at','Geo point','ID','Address'], axis=1, inplace=True)\n",
        "\n",
        "#Capitalizing the column names to enhance uniformity\n",
        "df.columns = df.columns.str.upper().str.strip().str.replace(' ','_').str.replace('.','')\n",
        "df.columns"
      ],
      "execution_count": 2,
      "outputs": [
        {
          "output_type": "execute_result",
          "data": {
            "text/plain": [
              "Index(['CARS', 'BLUECAR_COUNTER', 'UTILIB_COUNTER', 'UTILIB_14_COUNTER',\n",
              "       'CHARGE_SLOTS', 'CHARGING_STATUS', 'CITY', 'KIND', 'POSTAL_CODE',\n",
              "       'PUBLIC_NAME', 'RENTAL_STATUS', 'SLOTS', 'STATION_TYPE', 'STATUS',\n",
              "       'SUBSCRIPTION_STATUS', 'YEAR', 'MONTH', 'DAY', 'HOUR', 'MINUTE'],\n",
              "      dtype='object')"
            ]
          },
          "metadata": {
            "tags": []
          },
          "execution_count": 2
        }
      ]
    },
    {
      "cell_type": "code",
      "metadata": {
        "id": "X9VQ2pvXCAXZ",
        "colab_type": "code",
        "colab": {
          "base_uri": "https://localhost:8080/",
          "height": 496
        },
        "outputId": "3b5bbb40-cdf2-4a6f-daa6-91c447bbeae8"
      },
      "source": [
        "df.info()"
      ],
      "execution_count": 3,
      "outputs": [
        {
          "output_type": "stream",
          "text": [
            "<class 'pandas.core.frame.DataFrame'>\n",
            "RangeIndex: 5000 entries, 0 to 4999\n",
            "Data columns (total 20 columns):\n",
            " #   Column               Non-Null Count  Dtype \n",
            "---  ------               --------------  ----- \n",
            " 0   CARS                 5000 non-null   int64 \n",
            " 1   BLUECAR_COUNTER      5000 non-null   int64 \n",
            " 2   UTILIB_COUNTER       5000 non-null   int64 \n",
            " 3   UTILIB_14_COUNTER    5000 non-null   int64 \n",
            " 4   CHARGE_SLOTS         5000 non-null   int64 \n",
            " 5   CHARGING_STATUS      5000 non-null   object\n",
            " 6   CITY                 5000 non-null   object\n",
            " 7   KIND                 5000 non-null   object\n",
            " 8   POSTAL_CODE          5000 non-null   int64 \n",
            " 9   PUBLIC_NAME          5000 non-null   object\n",
            " 10  RENTAL_STATUS        5000 non-null   object\n",
            " 11  SLOTS                5000 non-null   int64 \n",
            " 12  STATION_TYPE         5000 non-null   object\n",
            " 13  STATUS               5000 non-null   object\n",
            " 14  SUBSCRIPTION_STATUS  5000 non-null   object\n",
            " 15  YEAR                 5000 non-null   int64 \n",
            " 16  MONTH                5000 non-null   int64 \n",
            " 17  DAY                  5000 non-null   int64 \n",
            " 18  HOUR                 5000 non-null   int64 \n",
            " 19  MINUTE               5000 non-null   int64 \n",
            "dtypes: int64(12), object(8)\n",
            "memory usage: 781.4+ KB\n"
          ],
          "name": "stdout"
        }
      ]
    },
    {
      "cell_type": "code",
      "metadata": {
        "id": "1DdXLIowD1UC",
        "colab_type": "code",
        "colab": {
          "base_uri": "https://localhost:8080/",
          "height": 407
        },
        "outputId": "d630e2d9-c544-49fa-95d3-0d9f85aa8db8"
      },
      "source": [
        "#Creating a column to determine how many shared electric cars (BlueCars) were given out or brought back\n",
        "\n",
        "df['BLUECARS'] = df.BLUECAR_COUNTER.diff()\n",
        "\n",
        "#Picking out unique numbers to determine the highest number of cars picked throughout the dataset\n",
        "\n",
        "df.BLUECARS.unique()\n",
        "#Determining the City that is the most popular for picking up Blue cars overall\n",
        "\n",
        "Time2=df[(df.RENTAL_STATUS=='operational')&(df.BLUECARS)].groupby('CITY')['CITY'].count().sort_values(ascending=False)\n",
        "Time2.head(20)\n"
      ],
      "execution_count": 5,
      "outputs": [
        {
          "output_type": "execute_result",
          "data": {
            "text/plain": [
              "CITY\n",
              "Paris                   2157\n",
              "Nanterre                 110\n",
              "Issy-les-Moulineaux       82\n",
              "Rueil-Malmaison           73\n",
              "CrÃ©teil                  71\n",
              "Montreuil                 58\n",
              "AsniÃ¨res-sur-Seine       56\n",
              "Drancy                    54\n",
              "Colombes                  53\n",
              "Boulogne-Billancourt      52\n",
              "Suresnes                  50\n",
              "Clamart                   39\n",
              "Saint-Ouen                37\n",
              "Gennevilliers             34\n",
              "Levallois-Perret          31\n",
              "Fontenay-aux-Roses        30\n",
              "Villejuif                 30\n",
              "Alfortville               28\n",
              "SÃ¨vres                   28\n",
              "Malakoff                  27\n",
              "Name: CITY, dtype: int64"
            ]
          },
          "metadata": {
            "tags": []
          },
          "execution_count": 5
        }
      ]
    },
    {
      "cell_type": "code",
      "metadata": {
        "id": "6SkBfZ04EHbp",
        "colab_type": "code",
        "colab": {}
      },
      "source": [
        "#From the analysis obtained above, Paris is the most popular city."
      ],
      "execution_count": 6,
      "outputs": []
    },
    {
      "cell_type": "code",
      "metadata": {
        "id": "2S1VahhoEanT",
        "colab_type": "code",
        "colab": {
          "base_uri": "https://localhost:8080/",
          "height": 407
        },
        "outputId": "bb38f410-6258-4637-fd74-c9c759f83108"
      },
      "source": [
        "#Determining the postal code that is the most popular for picking up Blue cars overall\n",
        "Time2=df[(df.RENTAL_STATUS=='operational')&(df.BLUECARS)].groupby('POSTAL_CODE')['POSTAL_CODE'].count().sort_values(ascending=False)\n",
        "Time2.head(20)"
      ],
      "execution_count": 7,
      "outputs": [
        {
          "output_type": "execute_result",
          "data": {
            "text/plain": [
              "POSTAL_CODE\n",
              "75015    211\n",
              "75017    187\n",
              "75016    180\n",
              "75013    137\n",
              "75020    136\n",
              "75011    136\n",
              "75019    132\n",
              "75008    128\n",
              "75012    128\n",
              "75014    110\n",
              "92000    110\n",
              "75018     99\n",
              "75007     88\n",
              "75010     86\n",
              "92130     82\n",
              "75009     73\n",
              "92500     73\n",
              "94000     71\n",
              "75005     70\n",
              "75006     59\n",
              "Name: POSTAL_CODE, dtype: int64"
            ]
          },
          "metadata": {
            "tags": []
          },
          "execution_count": 7
        }
      ]
    },
    {
      "cell_type": "code",
      "metadata": {
        "id": "eLmHBEtWErHI",
        "colab_type": "code",
        "colab": {}
      },
      "source": [
        ""
      ],
      "execution_count": null,
      "outputs": []
    }
  ]
}